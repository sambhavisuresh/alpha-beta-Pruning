{
  "nbformat": 4,
  "nbformat_minor": 0,
  "metadata": {
    "colab": {
      "provenance": []
    },
    "kernelspec": {
      "name": "python3",
      "display_name": "Python 3"
    },
    "language_info": {
      "name": "python"
    }
  },
  "cells": [
    {
      "cell_type": "code",
      "execution_count": 5,
      "metadata": {
        "colab": {
          "base_uri": "https://localhost:8080/"
        },
        "id": "Y0gQhGDr95Iw",
        "outputId": "34e78c58-8037-43f8-c5cf-c2ead3bf3bcf"
      },
      "outputs": [
        {
          "output_type": "stream",
          "name": "stdout",
          "text": [
            "maximizer at depth 0, alpha: -inf, beta: inf\n",
            "minimizer at depth 1, alpha: -inf, beta: inf\n",
            "maximizer at depth 2, alpha: -inf, beta: inf\n",
            "leaf node reached at depth 3, returning value: 3\n",
            "maximizer at depth 2, updated best: 3, alpha: 3\n",
            "leaf node reached at depth 3, returning value: 5\n",
            "maximizer at depth 2, updated best: 5, alpha: 5\n",
            "minimizer at depth 1, updated best: 5, beta: 5\n",
            "maximizer at depth 2, alpha: -inf, beta: 5\n",
            "leaf node reached at depth 3, returning value: 6\n",
            "maximizer at depth 2, updated best: 6, alpha: 6\n",
            "pruning branches at depth 2, beta: 5, alpha: 6\n",
            "minimizer at depth 1, updated best: 5, beta: 5\n",
            "maximizer at depth 0, updated best: 5, alpha: 5\n",
            "minimizer at depth 1, alpha: 5, beta: inf\n",
            "maximizer at depth 2, alpha: 5, beta: inf\n",
            "leaf node reached at depth 3, returning value: 1\n",
            "maximizer at depth 2, updated best: 1, alpha: 5\n",
            "leaf node reached at depth 3, returning value: 2\n",
            "maximizer at depth 2, updated best: 2, alpha: 5\n",
            "minimizer at depth 1, updated best: 2, beta: 2\n",
            "pruning branches at depth 1, beta: 2, alpha: 5\n",
            "maximizer at depth 0, updated best: 5, alpha: 5\n",
            "\n",
            " optimal value: 5\n"
          ]
        }
      ],
      "source": [
        "import math\n",
        "\n",
        "def alphabetapruning(depth, nodeIndex, ismaximizingPlayer, values, alpha, beta, maxdepth):\n",
        "\n",
        "    if depth == maxdepth:\n",
        "        print(f\"leaf node reached at depth {depth}, returning value: {values[nodeIndex]}\")\n",
        "        return values[nodeIndex]\n",
        "\n",
        "    if ismaximizingPlayer:\n",
        "        best = -math.inf\n",
        "        print(f\"maximizer at depth {depth}, alpha: {alpha}, beta: {beta}\")\n",
        "\n",
        "        for i in range(2):\n",
        "            value = alphabetapruning(depth + 1, nodeIndex * 2 + i, False, values, alpha, beta, maxdepth)\n",
        "            best = max(best, value)\n",
        "            alpha = max(alpha, best)\n",
        "            print(f\"maximizer at depth {depth}, updated best: {best}, alpha: {alpha}\")\n",
        "\n",
        "            if beta <= alpha:\n",
        "                print(f\"pruning branches at depth {depth}, beta: {beta}, alpha: {alpha}\")\n",
        "                break\n",
        "        return best\n",
        "    else:\n",
        "        best = math.inf\n",
        "        print(f\"minimizer at depth {depth}, alpha: {alpha}, beta: {beta}\")\n",
        "\n",
        "        for i in range(2):\n",
        "            value = alphabetapruning(depth + 1, nodeIndex * 2 + i, True, values, alpha, beta, maxdepth)\n",
        "            best = min(best, value)\n",
        "            beta = min(beta, best)\n",
        "            print(f\"minimizer at depth {depth}, updated best: {best}, beta: {beta}\")\n",
        "\n",
        "\n",
        "            if beta <= alpha:\n",
        "                print(f\"pruning branches at depth {depth}, beta: {beta}, alpha: {alpha}\")\n",
        "                break\n",
        "        return best\n",
        "\n",
        "\n",
        "\n",
        "\n",
        "maxdepth = 3\n",
        "values = [3, 5, 6, 9, 1, 2, 0, -1]\n",
        "\n",
        "alpha = -math.inf\n",
        "beta = math.inf\n",
        "\n",
        "optimalval = alphabetapruning(0, 0, True, values, alpha, beta, maxdepth)\n",
        "\n",
        "print(\"\\n optimal value:\", optimalval)\n",
        "\n"
      ]
    }
  ]
}